{
 "cells": [
  {
   "cell_type": "code",
   "execution_count": 3,
   "id": "aa696363-2393-46ae-9b16-e3a91854ef88",
   "metadata": {},
   "outputs": [],
   "source": [
    "import statsmodels.stats.api as sms\n",
    "import statsmodels.api as sm\n",
    "import pandas as pd \n",
    "import numpy as np \n",
    "from scipy import stats as st \n",
    "from matplotlib import pyplot as plt \n",
    "import seaborn as sns"
   ]
  },
  {
   "cell_type": "code",
   "execution_count": 5,
   "id": "082a515f-c7e2-4ded-96bb-c39399d0ec2c",
   "metadata": {},
   "outputs": [
    {
     "data": {
      "text/plain": [
       "393.40569300025135"
      ]
     },
     "execution_count": 5,
     "metadata": {},
     "output_type": "execute_result"
    }
   ],
   "source": [
    "alpha = 0.05\n",
    "power = 0.8 \n",
    "effect_size= 0.2\n",
    "\n",
    "sms.tt_ind_solve_power(\n",
    "    effect_size=effect_size,\n",
    "    alpha=alpha,\n",
    "    power=power,\n",
    "    ratio=1,\n",
    "    alternative='two-sided'\n",
    ")"
   ]
  },
  {
   "cell_type": "code",
   "execution_count": 6,
   "id": "45efdd26-8a00-48c3-b2fe-716ed9b05499",
   "metadata": {},
   "outputs": [
    {
     "name": "stdout",
     "output_type": "stream",
     "text": [
      "Effect size: 0.1, Required Sampel Size: 1571 customers\n",
      "Effect size: 0.2, Required Sampel Size: 393 customers\n",
      "Effect size: 0.3, Required Sampel Size: 175 customers\n",
      "Effect size: 0.4, Required Sampel Size: 99 customers\n",
      "Effect size: 0.5, Required Sampel Size: 64 customers\n",
      "Effect size: 1, Required Sampel Size: 17 customers\n"
     ]
    }
   ],
   "source": [
    "effect_sizes = [0.1, 0.2,0.3,0.4,0.5,1]\n",
    "\n",
    "for effect_size in effect_sizes:\n",
    "    sampel_size=sms.tt_ind_solve_power(\n",
    "        effect_size=effect_size,\n",
    "        alpha=alpha,\n",
    "        power=power,\n",
    "        ratio=1,\n",
    "        alternative='two-sided'\n",
    "    )\n",
    "    print(f\"Effect size: {effect_size}, Required Sampel Size: {sampel_size:.0f} customers\")"
   ]
  },
  {
   "cell_type": "markdown",
   "id": "0cf879e9-634b-422a-8693-508bd7fb9bcb",
   "metadata": {},
   "source": [
    "(2) POST CAMPAING"
   ]
  },
  {
   "cell_type": "code",
   "execution_count": 8,
   "id": "c6520c6e-4c85-486b-9cb9-75ad46269ae8",
   "metadata": {},
   "outputs": [
    {
     "data": {
      "text/html": [
       "<div>\n",
       "<style scoped>\n",
       "    .dataframe tbody tr th:only-of-type {\n",
       "        vertical-align: middle;\n",
       "    }\n",
       "\n",
       "    .dataframe tbody tr th {\n",
       "        vertical-align: top;\n",
       "    }\n",
       "\n",
       "    .dataframe thead th {\n",
       "        text-align: right;\n",
       "    }\n",
       "</style>\n",
       "<table border=\"1\" class=\"dataframe\">\n",
       "  <thead>\n",
       "    <tr style=\"text-align: right;\">\n",
       "      <th></th>\n",
       "      <th>campaign_date</th>\n",
       "      <th>control_group_avg_tran</th>\n",
       "      <th>test_group_avg_tran</th>\n",
       "    </tr>\n",
       "  </thead>\n",
       "  <tbody>\n",
       "    <tr>\n",
       "      <th>0</th>\n",
       "      <td>2023-09-10</td>\n",
       "      <td>259.83</td>\n",
       "      <td>277.32</td>\n",
       "    </tr>\n",
       "    <tr>\n",
       "      <th>1</th>\n",
       "      <td>2023-09-11</td>\n",
       "      <td>191.27</td>\n",
       "      <td>248.68</td>\n",
       "    </tr>\n",
       "    <tr>\n",
       "      <th>2</th>\n",
       "      <td>2023-09-12</td>\n",
       "      <td>212.41</td>\n",
       "      <td>286.61</td>\n",
       "    </tr>\n",
       "    <tr>\n",
       "      <th>3</th>\n",
       "      <td>2023-09-13</td>\n",
       "      <td>214.92</td>\n",
       "      <td>214.85</td>\n",
       "    </tr>\n",
       "  </tbody>\n",
       "</table>\n",
       "</div>"
      ],
      "text/plain": [
       "  campaign_date  control_group_avg_tran  test_group_avg_tran\n",
       "0    2023-09-10                  259.83               277.32\n",
       "1    2023-09-11                  191.27               248.68\n",
       "2    2023-09-12                  212.41               286.61\n",
       "3    2023-09-13                  214.92               214.85"
      ]
     },
     "execution_count": 8,
     "metadata": {},
     "output_type": "execute_result"
    }
   ],
   "source": [
    "df = pd.read_csv('data/avg_transactions_after_campaign.csv')\n",
    "df.head(4)"
   ]
  },
  {
   "cell_type": "code",
   "execution_count": 9,
   "id": "fb8cf151-a14a-4ee9-aa1b-5690a47cf3f4",
   "metadata": {},
   "outputs": [
    {
     "data": {
      "text/plain": [
       "(62, 3)"
      ]
     },
     "execution_count": 9,
     "metadata": {},
     "output_type": "execute_result"
    }
   ],
   "source": [
    "df.shape"
   ]
  },
  {
   "cell_type": "code",
   "execution_count": 10,
   "id": "313d169f-85ca-49b8-8bfd-78a12d46b5b3",
   "metadata": {},
   "outputs": [
    {
     "data": {
      "text/html": [
       "<div>\n",
       "<style scoped>\n",
       "    .dataframe tbody tr th:only-of-type {\n",
       "        vertical-align: middle;\n",
       "    }\n",
       "\n",
       "    .dataframe tbody tr th {\n",
       "        vertical-align: top;\n",
       "    }\n",
       "\n",
       "    .dataframe thead th {\n",
       "        text-align: right;\n",
       "    }\n",
       "</style>\n",
       "<table border=\"1\" class=\"dataframe\">\n",
       "  <thead>\n",
       "    <tr style=\"text-align: right;\">\n",
       "      <th></th>\n",
       "      <th>campaign_date</th>\n",
       "      <th>control_group_avg_tran</th>\n",
       "      <th>test_group_avg_tran</th>\n",
       "    </tr>\n",
       "  </thead>\n",
       "  <tbody>\n",
       "    <tr>\n",
       "      <th>3</th>\n",
       "      <td>2023-09-13</td>\n",
       "      <td>214.92</td>\n",
       "      <td>214.85</td>\n",
       "    </tr>\n",
       "    <tr>\n",
       "      <th>8</th>\n",
       "      <td>2023-09-18</td>\n",
       "      <td>265.13</td>\n",
       "      <td>212.60</td>\n",
       "    </tr>\n",
       "    <tr>\n",
       "      <th>9</th>\n",
       "      <td>2023-09-19</td>\n",
       "      <td>232.88</td>\n",
       "      <td>207.63</td>\n",
       "    </tr>\n",
       "    <tr>\n",
       "      <th>16</th>\n",
       "      <td>2023-09-26</td>\n",
       "      <td>222.95</td>\n",
       "      <td>213.30</td>\n",
       "    </tr>\n",
       "    <tr>\n",
       "      <th>22</th>\n",
       "      <td>2023-10-02</td>\n",
       "      <td>238.39</td>\n",
       "      <td>203.10</td>\n",
       "    </tr>\n",
       "    <tr>\n",
       "      <th>23</th>\n",
       "      <td>2023-10-03</td>\n",
       "      <td>253.95</td>\n",
       "      <td>234.26</td>\n",
       "    </tr>\n",
       "    <tr>\n",
       "      <th>25</th>\n",
       "      <td>2023-10-05</td>\n",
       "      <td>239.47</td>\n",
       "      <td>216.37</td>\n",
       "    </tr>\n",
       "    <tr>\n",
       "      <th>26</th>\n",
       "      <td>2023-10-06</td>\n",
       "      <td>200.70</td>\n",
       "      <td>166.70</td>\n",
       "    </tr>\n",
       "    <tr>\n",
       "      <th>27</th>\n",
       "      <td>2023-10-07</td>\n",
       "      <td>200.91</td>\n",
       "      <td>170.01</td>\n",
       "    </tr>\n",
       "    <tr>\n",
       "      <th>28</th>\n",
       "      <td>2023-10-08</td>\n",
       "      <td>188.30</td>\n",
       "      <td>150.27</td>\n",
       "    </tr>\n",
       "    <tr>\n",
       "      <th>29</th>\n",
       "      <td>2023-10-09</td>\n",
       "      <td>247.11</td>\n",
       "      <td>164.00</td>\n",
       "    </tr>\n",
       "    <tr>\n",
       "      <th>35</th>\n",
       "      <td>2023-10-15</td>\n",
       "      <td>240.27</td>\n",
       "      <td>238.30</td>\n",
       "    </tr>\n",
       "    <tr>\n",
       "      <th>39</th>\n",
       "      <td>2023-10-19</td>\n",
       "      <td>223.90</td>\n",
       "      <td>196.84</td>\n",
       "    </tr>\n",
       "    <tr>\n",
       "      <th>44</th>\n",
       "      <td>2023-10-24</td>\n",
       "      <td>230.83</td>\n",
       "      <td>213.45</td>\n",
       "    </tr>\n",
       "    <tr>\n",
       "      <th>48</th>\n",
       "      <td>2023-10-28</td>\n",
       "      <td>229.18</td>\n",
       "      <td>222.29</td>\n",
       "    </tr>\n",
       "    <tr>\n",
       "      <th>49</th>\n",
       "      <td>2023-10-29</td>\n",
       "      <td>237.26</td>\n",
       "      <td>214.46</td>\n",
       "    </tr>\n",
       "    <tr>\n",
       "      <th>52</th>\n",
       "      <td>2023-11-01</td>\n",
       "      <td>265.45</td>\n",
       "      <td>169.98</td>\n",
       "    </tr>\n",
       "    <tr>\n",
       "      <th>57</th>\n",
       "      <td>2023-11-06</td>\n",
       "      <td>255.70</td>\n",
       "      <td>140.61</td>\n",
       "    </tr>\n",
       "  </tbody>\n",
       "</table>\n",
       "</div>"
      ],
      "text/plain": [
       "   campaign_date  control_group_avg_tran  test_group_avg_tran\n",
       "3     2023-09-13                  214.92               214.85\n",
       "8     2023-09-18                  265.13               212.60\n",
       "9     2023-09-19                  232.88               207.63\n",
       "16    2023-09-26                  222.95               213.30\n",
       "22    2023-10-02                  238.39               203.10\n",
       "23    2023-10-03                  253.95               234.26\n",
       "25    2023-10-05                  239.47               216.37\n",
       "26    2023-10-06                  200.70               166.70\n",
       "27    2023-10-07                  200.91               170.01\n",
       "28    2023-10-08                  188.30               150.27\n",
       "29    2023-10-09                  247.11               164.00\n",
       "35    2023-10-15                  240.27               238.30\n",
       "39    2023-10-19                  223.90               196.84\n",
       "44    2023-10-24                  230.83               213.45\n",
       "48    2023-10-28                  229.18               222.29\n",
       "49    2023-10-29                  237.26               214.46\n",
       "52    2023-11-01                  265.45               169.98\n",
       "57    2023-11-06                  255.70               140.61"
      ]
     },
     "execution_count": 10,
     "metadata": {},
     "output_type": "execute_result"
    }
   ],
   "source": [
    "df[df['control_group_avg_tran']>df['test_group_avg_tran']]"
   ]
  },
  {
   "cell_type": "code",
   "execution_count": 11,
   "id": "ea8705d2-02c1-4460-bbb3-473d45ea8eb6",
   "metadata": {},
   "outputs": [
    {
     "data": {
      "text/plain": [
       "0.2903225806451613"
      ]
     },
     "execution_count": 11,
     "metadata": {},
     "output_type": "execute_result"
    }
   ],
   "source": [
    "df[df['control_group_avg_tran']>df['test_group_avg_tran']].shape[0]/df.shape[0]"
   ]
  },
  {
   "cell_type": "code",
   "execution_count": 12,
   "id": "182aec5d-0b74-470b-aae8-bcc09d48caeb",
   "metadata": {},
   "outputs": [
    {
     "data": {
      "text/plain": [
       "(np.float64(221.18), np.float64(21.36))"
      ]
     },
     "execution_count": 12,
     "metadata": {},
     "output_type": "execute_result"
    }
   ],
   "source": [
    "control_mean= df[\"control_group_avg_tran\"].mean().round(2)\n",
    "control_std= df[\"control_group_avg_tran\"].std().round(2)\n",
    "control_mean,control_std"
   ]
  },
  {
   "cell_type": "code",
   "execution_count": 13,
   "id": "3620f4c7-c9b7-428a-ac4e-7e5f3c1a9267",
   "metadata": {},
   "outputs": [
    {
     "data": {
      "text/plain": [
       "(np.float64(235.98), np.float64(36.66))"
      ]
     },
     "execution_count": 13,
     "metadata": {},
     "output_type": "execute_result"
    }
   ],
   "source": [
    "test_mean= df[\"test_group_avg_tran\"].mean().round(2)\n",
    "test_std= df[\"test_group_avg_tran\"].std().round(2)\n",
    "test_mean,test_std"
   ]
  },
  {
   "cell_type": "code",
   "execution_count": 14,
   "id": "6a5d05f7-38c7-495a-8c98-a374775f4c96",
   "metadata": {},
   "outputs": [
    {
     "data": {
      "text/plain": [
       "62"
      ]
     },
     "execution_count": 14,
     "metadata": {},
     "output_type": "execute_result"
    }
   ],
   "source": [
    "sampel_size=df.shape[0]\n",
    "sampel_size"
   ]
  },
  {
   "cell_type": "code",
   "execution_count": 15,
   "id": "e5cd31bd-0e35-40a9-b31e-d7993231021e",
   "metadata": {},
   "outputs": [
    {
     "data": {
      "text/plain": [
       "np.float64(2.7466072001806734)"
      ]
     },
     "execution_count": 15,
     "metadata": {},
     "output_type": "execute_result"
    }
   ],
   "source": [
    "a=test_std**2/sampel_size\n",
    "b=control_std**2/sampel_size\n",
    "\n",
    "Z_score = (test_mean-control_mean)/np.sqrt(a+b)\n",
    "Z_score"
   ]
  },
  {
   "cell_type": "code",
   "execution_count": 16,
   "id": "e6b7ffa3-2164-4221-a24c-e70785d17e28",
   "metadata": {},
   "outputs": [
    {
     "data": {
      "text/plain": [
       "np.float64(1.6448536269514722)"
      ]
     },
     "execution_count": 16,
     "metadata": {},
     "output_type": "execute_result"
    }
   ],
   "source": [
    "critical_z_value= st.norm.ppf(1-alpha)\n",
    "critical_z_value"
   ]
  },
  {
   "cell_type": "code",
   "execution_count": 18,
   "id": "8ab6054b-59b8-4161-a61e-065bdad165fb",
   "metadata": {},
   "outputs": [
    {
     "data": {
      "text/plain": [
       "np.True_"
      ]
     },
     "execution_count": 18,
     "metadata": {},
     "output_type": "execute_result"
    }
   ],
   "source": [
    "Z_score>critical_z_value"
   ]
  },
  {
   "cell_type": "code",
   "execution_count": 19,
   "id": "0e923a0e-85e9-42c5-98fc-353cbac3ddbf",
   "metadata": {},
   "outputs": [
    {
     "data": {
      "text/plain": [
       "np.float64(0.0030107601919702187)"
      ]
     },
     "execution_count": 19,
     "metadata": {},
     "output_type": "execute_result"
    }
   ],
   "source": [
    "p_value=1-st.norm.cdf(Z_score)\n",
    "p_value"
   ]
  },
  {
   "cell_type": "code",
   "execution_count": 20,
   "id": "1e6dc475-ae9b-4f42-b1d2-66bcfc980bfb",
   "metadata": {},
   "outputs": [
    {
     "data": {
      "text/plain": [
       "np.True_"
      ]
     },
     "execution_count": 20,
     "metadata": {},
     "output_type": "execute_result"
    }
   ],
   "source": [
    "p_value<alpha"
   ]
  },
  {
   "cell_type": "code",
   "execution_count": 21,
   "id": "4824a516-cdc4-46c0-9cbb-1c03840736b1",
   "metadata": {},
   "outputs": [
    {
     "data": {
      "text/plain": [
       "(np.float64(2.7482973745691135), np.float64(0.002995282462202502))"
      ]
     },
     "execution_count": 21,
     "metadata": {},
     "output_type": "execute_result"
    }
   ],
   "source": [
    "z_statistic, p_value = sm.stats.ztest(df['test_group_avg_tran'],df['control_group_avg_tran'],alternative='larger')\n",
    "z_statistic, p_value"
   ]
  },
  {
   "cell_type": "code",
   "execution_count": 22,
   "id": "a1935dd3-eb29-4095-96bc-3cacae917a6b",
   "metadata": {},
   "outputs": [
    {
     "data": {
      "text/plain": [
       "(np.float64(226.85475135624552), np.float64(245.10524864375446))"
      ]
     },
     "execution_count": 22,
     "metadata": {},
     "output_type": "execute_result"
    }
   ],
   "source": [
    "test_group_CI= st.norm.interval(0.95,loc=test_mean, scale=test_std/np.sqrt(sampel_size))\n",
    "test_group_CI"
   ]
  },
  {
   "cell_type": "code",
   "execution_count": null,
   "id": "185e4b8a-a7e5-4f2b-8859-168d73fac869",
   "metadata": {},
   "outputs": [],
   "source": []
  }
 ],
 "metadata": {
  "kernelspec": {
   "display_name": "Python 3 (ipykernel)",
   "language": "python",
   "name": "python3"
  },
  "language_info": {
   "codemirror_mode": {
    "name": "ipython",
    "version": 3
   },
   "file_extension": ".py",
   "mimetype": "text/x-python",
   "name": "python",
   "nbconvert_exporter": "python",
   "pygments_lexer": "ipython3",
   "version": "3.10.11"
  }
 },
 "nbformat": 4,
 "nbformat_minor": 5
}
